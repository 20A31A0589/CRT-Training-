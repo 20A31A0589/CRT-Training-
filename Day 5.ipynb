{
 "cells": [
  {
   "cell_type": "code",
   "execution_count": 1,
   "id": "002019bf",
   "metadata": {},
   "outputs": [
    {
     "name": "stdout",
     "output_type": "stream",
     "text": [
      "value is 10\n"
     ]
    }
   ],
   "source": [
    "#Polymorphism\n",
    "class A:\n",
    "    def method_1(self,a,b):\n",
    "        print(\"sum of 2 numbers:\",a+b)\n",
    "class B:\n",
    "    def method_1(self,a,b):\n",
    "        print(\"mul of 2 numbers:\",a,b)\n",
    "    def method_1(self,abc,a):\n",
    "        print(\"value is\",abc)\n",
    "ob=B()\n",
    "ob.method_1(10,20)"
   ]
  },
  {
   "cell_type": "code",
   "execution_count": 2,
   "id": "7814e804",
   "metadata": {},
   "outputs": [
    {
     "name": "stdout",
     "output_type": "stream",
     "text": [
      "5\n",
      "9\n"
     ]
    }
   ],
   "source": [
    "#polymorphism\n",
    "def add(x, y, z = 0):\n",
    "    return x + y+z\n",
    " \n",
    "# Driver code\n",
    "print(add(2, 3))\n",
    "print(add(2, 3, 4))"
   ]
  },
  {
   "cell_type": "code",
   "execution_count": 3,
   "id": "73edf957",
   "metadata": {},
   "outputs": [
    {
     "name": "stdout",
     "output_type": "stream",
     "text": [
      "6000\n"
     ]
    }
   ],
   "source": [
    "#method overloading (same method name in different signature)\n",
    "def m1(a,b,c=0):\n",
    "    print(a+b)\n",
    "def m1(a,b,c):\n",
    "    print(a*b*c)\n",
    "m1(10,20,30)"
   ]
  },
  {
   "cell_type": "code",
   "execution_count": 6,
   "id": "d2ada2b9",
   "metadata": {},
   "outputs": [
    {
     "name": "stdout",
     "output_type": "stream",
     "text": [
      "it is square\n"
     ]
    }
   ],
   "source": [
    "#Abstraction\n",
    "#we have to inherit the ABC class to write abstract programs\n",
    "from abc import ABC,abstractmethod\n",
    "class Area(ABC):      #Abstract class  \n",
    "    @abstractmethod   #Annotation   \n",
    "    def calculate_area(self): #Abstract method dont have body\n",
    "        pass\n",
    "    @abstractmethod\n",
    "    def calculate_circle_area(self): \n",
    "        pass\n",
    "class Square(Area):\n",
    "    def calculate_area(self):\n",
    "        print(\"it is square\")\n",
    "    def calculate_circle_area(self): #It is not useful but we defined it because we defined in abstract method\n",
    "        pass\n",
    "obj1=Square()\n",
    "obj1.calculate_area()"
   ]
  },
  {
   "cell_type": "code",
   "execution_count": null,
   "id": "4d0ddb93",
   "metadata": {},
   "outputs": [],
   "source": []
  }
 ],
 "metadata": {
  "kernelspec": {
   "display_name": "Python 3 (ipykernel)",
   "language": "python",
   "name": "python3"
  },
  "language_info": {
   "codemirror_mode": {
    "name": "ipython",
    "version": 3
   },
   "file_extension": ".py",
   "mimetype": "text/x-python",
   "name": "python",
   "nbconvert_exporter": "python",
   "pygments_lexer": "ipython3",
   "version": "3.9.7"
  }
 },
 "nbformat": 4,
 "nbformat_minor": 5
}
