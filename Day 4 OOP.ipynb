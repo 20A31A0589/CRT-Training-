{
 "cells": [
  {
   "cell_type": "code",
   "execution_count": null,
   "id": "b4fc934c",
   "metadata": {},
   "outputs": [],
   "source": [
    "#OOP(object oriented programming)\n",
    "class Student:\n",
    "    #class variables\n",
    "    name=\"\"\n",
    "    roll_number=\"\"\n",
    "    branch=\"\"\n",
    "    marks=0\n",
    "    attendence=0.0\n",
    "    is_using_transport=False\n",
    "    #class methods\n",
    "    def view_attendence(self): # self is used to represents  as a class student method\n",
    "        pass\n",
    "    def view_marks(self):\n",
    "        pass\n",
    "    def view_name(self):\n",
    "        pass\n",
    "    def update_name(self,name_name):\n",
    "        pass\n",
    "\n",
    "    "
   ]
  },
  {
   "cell_type": "code",
   "execution_count": 4,
   "id": "631b6128",
   "metadata": {},
   "outputs": [
    {
     "name": "stdout",
     "output_type": "stream",
     "text": [
      "object oriented\n",
      "Mukesh\n",
      "hello\n"
     ]
    }
   ],
   "source": [
    "class student:\n",
    "    student_name=\"hello\"\n",
    "    def __init__(self,name):\n",
    "        print(\"object oriented\")\n",
    "        print(name)\n",
    "        print(self.student_name)\n",
    "s1=student(\"Mukesh\")\n"
   ]
  },
  {
   "cell_type": "code",
   "execution_count": 6,
   "id": "747320de",
   "metadata": {},
   "outputs": [
    {
     "name": "stdout",
     "output_type": "stream",
     "text": [
      "5\n",
      "1 2 3 4 5\n",
      "3\n",
      "[3, 4, 5, 1, 2]\n"
     ]
    }
   ],
   "source": [
    "#day3 code1\n",
    "n=int(input())\n",
    "if(n<=0):\n",
    "    print(\"Invalid Input\")\n",
    "else:\n",
    "    arr=list(map(int,input().split()))\n",
    "    k=int(input())\n",
    "    if(k>n):\n",
    "        print(\"Invalid Input\")\n",
    "    else:\n",
    "        first=arr[:n-k]\n",
    "        last=arr[n-k:]\n",
    "        print(last+first)"
   ]
  },
  {
   "cell_type": "code",
   "execution_count": 8,
   "id": "264899f2",
   "metadata": {},
   "outputs": [
    {
     "name": "stdout",
     "output_type": "stream",
     "text": [
      "5\n",
      "1 2 3 1 2\n",
      "3\n",
      "1\n",
      "[(1, 2)]\n"
     ]
    }
   ],
   "source": [
    "#day3 code2\n",
    "n=int(input())\n",
    "arr=list(map(int,input().split()))\n",
    "n=int(input())\n",
    "res=[]\n",
    "for i in range(0,n-1):\n",
    "    for j in range(i+1,n):\n",
    "        if(arr[i]+arr[j]==k):\n",
    "            res.append((arr[i],arr[j]))\n",
    "            #res.append([arr[i],arr[j]])\n",
    "print(len(set(res)))\n",
    "print(res)\n"
   ]
  },
  {
   "cell_type": "code",
   "execution_count": 11,
   "id": "704168b4",
   "metadata": {},
   "outputs": [
    {
     "name": "stdout",
     "output_type": "stream",
     "text": [
      "7\n",
      "1 2 1 3 2 3 1\n",
      "3\n",
      "[[1, 2], [2, 1]]\n",
      "2\n",
      "[[1, 2], [2, 1]]\n"
     ]
    }
   ],
   "source": [
    "#check it pairs or exist \n",
    "n=int(input())\n",
    "arr=list(map(int,input().split()))\n",
    "n=int(input())\n",
    "res=[]\n",
    "for i in range(0,n-1):\n",
    "    for j in range(i+1,n):\n",
    "        if(arr[i]+arr[j]==k):\n",
    "            res.append([arr[i],arr[j]])\n",
    "ans=[]\n",
    "print(res)\n",
    "for i in res:\n",
    "    if i not in ans:\n",
    "        ans.append(i)\n",
    "print(len(ans))\n",
    "print(ans)"
   ]
  },
  {
   "cell_type": "code",
   "execution_count": 15,
   "id": "4065d231",
   "metadata": {},
   "outputs": [
    {
     "name": "stdout",
     "output_type": "stream",
     "text": [
      "7\n",
      "1 2 3 4 1 2 3\n",
      "[1, 2, 3]\n"
     ]
    }
   ],
   "source": [
    "# return the repeated elements\n",
    "n=int(input())\n",
    "arr=list(map(int,input().split()))\n",
    "flag=False\n",
    "ans=[]\n",
    "for i in arr:\n",
    "    if arr.count(i)>1  and i not in ans:\n",
    "        flag=True\n",
    "        ans.append(i)\n",
    "if(len(ans)>0):\n",
    "    print(ans)\n",
    "else:\n",
    "    print(\"No elements found\")"
   ]
  },
  {
   "cell_type": "code",
   "execution_count": 20,
   "id": "19aa17eb",
   "metadata": {},
   "outputs": [
    {
     "name": "stdout",
     "output_type": "stream",
     "text": [
      "f Mukesh\n",
      "fg Mukesh\n",
      "f Ramesh\n",
      "fg Ramesh\n",
      "f suresh\n",
      "fg suresh\n",
      "Mukesh\n",
      "Ramesh\n"
     ]
    }
   ],
   "source": [
    "class Student:\n",
    "    student_name=\"hello\"\n",
    "    def __init__(self,name):\n",
    "        self.Student_name=name\n",
    "        print(\"f\",name)\n",
    "        print(\"fg\",self.Student_name)\n",
    "s1=Student(\"Mukesh\")\n",
    "s2=Student(\"Ramesh\")\n",
    "s3=Student(\"suresh\")\n",
    "print(s1.Student_name)\n",
    "print(s2.Student_name)"
   ]
  },
  {
   "cell_type": "code",
   "execution_count": 1,
   "id": "8ab5f60f",
   "metadata": {},
   "outputs": [
    {
     "name": "stdout",
     "output_type": "stream",
     "text": [
      "ramesh\n"
     ]
    }
   ],
   "source": [
    "class Student:\n",
    "    student_name=\"hello\"\n",
    "    def __init__(self,name):\n",
    "        self.Student_name=name\n",
    "    def update_name(self,new_name):\n",
    "        self.Student_name=new_name\n",
    "s2=Student(\"ramesh\")\n",
    "print(s2.Student_name)"
   ]
  },
  {
   "cell_type": "code",
   "execution_count": 3,
   "id": "bd427fbe",
   "metadata": {},
   "outputs": [
    {
     "name": "stdout",
     "output_type": "stream",
     "text": [
      "vani\n",
      "1235\n",
      "2\n",
      "vani\n",
      "0\n",
      "Account number:1235\n"
     ]
    }
   ],
   "source": [
    "class Bank:\n",
    "    name=\"\"\n",
    "    account_number=0\n",
    "    age=0\n",
    "    def __init__(self,name,account_number,age):\n",
    "        self.name=name\n",
    "        self.account_number=account_number\n",
    "        #self.age=age\n",
    "        self\n",
    "        print(name)\n",
    "        print(account_number)\n",
    "        print(age)\n",
    "    def generateIFSC(self):\n",
    "        temp=f\"IFSC{self.branch}{self.account_no}\"\n",
    "        self.account_IFSC=account_IFSC\n",
    "    def print_details_of_user(self):\n",
    "        print(f\"Account number:{self.account_number}\")\n",
    "s1=Bank(\"vani\",1235,2)\n",
    "print(s1.name)\n",
    "print(s1.age)\n",
    "s1.print_details_of_user()"
   ]
  },
  {
   "cell_type": "code",
   "execution_count": null,
   "id": "2663079a",
   "metadata": {},
   "outputs": [],
   "source": [
    "#login system\n",
    "class Userclass:\n",
    "    full_name=\"\"\n",
    "    email=\"\"             \n",
    "    __password=\"\"     #private variable\n",
    "    mobile_number=\"\"\n",
    "    def __init__(self,name,email,password):\n",
    "        self.full_name=name\n",
    "        self.email=email\n",
    "        self.password=password\n",
    "    def update_name(self,new_name):\n",
    "        self.full_name=new_name\n",
    "    def get_name(self):\n",
    "        return self.full_name\n",
    "    def update_password(self,new_password):\n",
    "        pass\n",
    "    def update_mobile_number(self,new_number):\n",
    "        self.mobile_number=new_number\n",
    "    def get_user_password(self):\n",
    "        return self._password          #using getter method we can access the password\n",
    "    def se    \n",
    "                                        #check email is valid are not to check the firstletter as alphabet or not"
   ]
  },
  {
   "cell_type": "code",
   "execution_count": null,
   "id": "b6b599ec",
   "metadata": {},
   "outputs": [],
   "source": [
    "#this program is run in pycharm\n",
    "from User import Userclass:\n",
    "class login:\n",
    "    __db=[]\n",
    "    def __init__(self):\n",
    "        self.print_menu()\n",
    "    def print_menu(self):\n",
    "        print(\"welcome user\")\n",
    "        print(\"1.Register\")\n",
    "    def create_user(self,name,email,password):\n",
    "        new_user=Userclass(name,email,password)\n",
    "        self.__db.append(new_user)\n",
    "    def validate_user(self,email,password):\n",
    "        pass"
   ]
  },
  {
   "cell_type": "code",
   "execution_count": 19,
   "id": "c674d774",
   "metadata": {},
   "outputs": [
    {
     "name": "stdout",
     "output_type": "stream",
     "text": [
      "Abc@gmail.com\n",
      "invalid string\n"
     ]
    }
   ],
   "source": [
    "str1=input()\n",
    "temp=\"\"\n",
    "valid_chars=['@','.']\n",
    "if \"@\" in str1:\n",
    "    if \".com\" in str1:   #if '@gmail.com'==email[-10:]:\n",
    "        if str1[0].isalpha():\n",
    "            temp=True\n",
    "        else:\n",
    "            temp=False\n",
    "    else:\n",
    "        temp=False\n",
    "else:\n",
    "    temp=False\n",
    "if(temp==True):\n",
    "    print(\"valid string\")\n",
    "else:\n",
    "    print(\"invalid string\")\n"
   ]
  },
  {
   "cell_type": "code",
   "execution_count": 5,
   "id": "dec3159b",
   "metadata": {},
   "outputs": [
    {
     "name": "stdout",
     "output_type": "stream",
     "text": [
      "dog name is rodger\n",
      "dog name is cghr\n",
      "dog name is object mamal\n"
     ]
    }
   ],
   "source": [
    "class Dog:\n",
    "    attr1=\"mamal\"\n",
    "    def __init__(self,name):\n",
    "        self.name=name\n",
    "    def speak(self):\n",
    "        print(\"dog name is {}\".format(self.name))\n",
    "rodger=Dog(\"rodger\")\n",
    "cghr=Dog(\"cghr\")\n",
    "rodger.speak()\n",
    "cghr.speak()\n",
    "print(\"dog name is object\",rodger.attr1)\n"
   ]
  },
  {
   "cell_type": "code",
   "execution_count": 3,
   "id": "b0502490",
   "metadata": {},
   "outputs": [
    {
     "name": "stdout",
     "output_type": "stream",
     "text": [
      "4\n",
      "add 2\n",
      "insert 1 2\n",
      "remove 2\n",
      "pop\n",
      "[]\n"
     ]
    }
   ],
   "source": [
    "#Day4 code1\n",
    "n=int(input())\n",
    "arr=[]\n",
    "for i in range(n):\n",
    "    a=input().split()\n",
    "    if a[0]=='add':\n",
    "        arr.append(int(a[1]))\n",
    "    elif a[0]=='insert':\n",
    "        ele=int(a[1])\n",
    "        ind=int(a[2])\n",
    "        arr.insert(ind,ele)\n",
    "    elif a[0]=='remove':\n",
    "        ele=int(a[1])\n",
    "        if ele in arr:\n",
    "            arr.remove(ele)\n",
    "    elif a[0]=='pop':\n",
    "        if len(arr)>0:\n",
    "            arr.pop()\n",
    "    elif a[0]=='print':\n",
    "        if len(arr)!=0:\n",
    "            print(*arr)\n",
    "    else:\n",
    "        print(\"Invalid input\")\n",
    "print(arr)"
   ]
  },
  {
   "cell_type": "code",
   "execution_count": 24,
   "id": "8f6938d2",
   "metadata": {},
   "outputs": [
    {
     "name": "stdout",
     "output_type": "stream",
     "text": [
      "2\n",
      "abc@df\n",
      "False\n",
      "Fbg1@\n",
      "False\n"
     ]
    }
   ],
   "source": [
    "#day 4 code2\n",
    "n=int(input())\n",
    "for i in range(n):\n",
    "    password=input()\n",
    "    pass_len=len(password)>=8 and len(password)<=16\n",
    "    lower=False\n",
    "    Upper=False\n",
    "    special=False\n",
    "    for i in password:\n",
    "        if i.islower():\n",
    "            lower=True\n",
    "        elif i.isupper():\n",
    "            upper=True\n",
    "        elif i.islower():\n",
    "            lower=True\n",
    "        elif i.isdigit():\n",
    "            digit=True\n",
    "        else:\n",
    "            special=True\n",
    "    if pass_len and lower and upper and digit and special:\n",
    "        print(\"True\")\n",
    "    else:\n",
    "        print(\"False\")\n",
    "        \n",
    "    "
   ]
  },
  {
   "cell_type": "code",
   "execution_count": 5,
   "id": "7c5ce878",
   "metadata": {},
   "outputs": [
    {
     "name": "stdout",
     "output_type": "stream",
     "text": [
      "10\n",
      "Ramesh\n"
     ]
    }
   ],
   "source": [
    "#Inheritance\n",
    "class A:\n",
    "    name=\"Mukesh\"\n",
    "    age=36\n",
    "class B(A):\n",
    "    age=10\n",
    "obj=B()\n",
    "obj.name=\"Ramesh\"\n",
    "print(obj.age)     #first checks with B it presents then print else check for parent class\n",
    "print(obj.name)"
   ]
  },
  {
   "cell_type": "code",
   "execution_count": 8,
   "id": "f87bd337",
   "metadata": {},
   "outputs": [
    {
     "name": "stdout",
     "output_type": "stream",
     "text": [
      "10\n",
      "Ramesh\n"
     ]
    }
   ],
   "source": [
    "#Multilevel inheritance\n",
    "class A:\n",
    "    name=\"Mukesh\"\n",
    "    age=36\n",
    "class B(A):\n",
    "    age=10\n",
    "class C(B):\n",
    "    pass\n",
    "class D(C):\n",
    "    pass\n",
    "obj=B()\n",
    "obj.name=\"Ramesh\"\n",
    "print(obj.age)     #first checks with B it presents then print else check for parent class\n",
    "print(obj.name)"
   ]
  },
  {
   "cell_type": "code",
   "execution_count": 11,
   "id": "db74d43b",
   "metadata": {},
   "outputs": [
    {
     "name": "stdout",
     "output_type": "stream",
     "text": [
      "6\n",
      "100\n",
      "12\n"
     ]
    }
   ],
   "source": [
    "class Chairman:\n",
    "    Student_details=100\n",
    "    branches=5\n",
    "class Vice_chairman(Chairman):\n",
    "    staff=10\n",
    "    branches=6\n",
    "class principal(Vice_chairman):\n",
    "    attendence=12\n",
    "obj=principal()\n",
    "print(obj.branches)\n",
    "print(obj.Student_details)\n",
    "print(obj.attendence)\n",
    "    "
   ]
  },
  {
   "cell_type": "code",
   "execution_count": 18,
   "id": "2504fb28",
   "metadata": {},
   "outputs": [
    {
     "name": "stdout",
     "output_type": "stream",
     "text": [
      "CSE\n",
      "CN\n",
      "EEE\n"
     ]
    }
   ],
   "source": [
    "#Hieriarical Inheritance\n",
    "class Person:\n",
    "    name=\"\"\n",
    "    gender=\"\"\n",
    "    age=\"\"\n",
    "    branch=\"EEE\"\n",
    "    pass\n",
    "class Student(Person):\n",
    "    roll_num=\"\"\n",
    "    branch=\"CSE\"\n",
    "    pass\n",
    "class Faculty(Person):\n",
    "    salary=1000\n",
    "    subject=\"CN\"\n",
    "    age=\"\"\n",
    "    pass\n",
    "\n",
    "obj=Faculty()\n",
    "obj1=Student()\n",
    "print(obj1.branch)\n",
    "print(obj.subject)\n",
    "print(obj.branch)"
   ]
  },
  {
   "cell_type": "code",
   "execution_count": 15,
   "id": "e2aabff3",
   "metadata": {},
   "outputs": [
    {
     "name": "stdout",
     "output_type": "stream",
     "text": [
      "In parent class 1\n"
     ]
    }
   ],
   "source": [
    "#Multiple Inheritance\n",
    "class P1:\n",
    "    def m1(self):\n",
    "        print(\"In parent class 1\")\n",
    "class P2:\n",
    "    def m1(self):\n",
    "        print(\"In parent class 2\")\n",
    "class C(P1,P2):\n",
    "    pass\n",
    "obj=C()\n",
    "obj.m1()      #demand problem (we have same m1 in p1 and p2)"
   ]
  },
  {
   "cell_type": "code",
   "execution_count": 40,
   "id": "d097b6d1",
   "metadata": {},
   "outputs": [
    {
     "name": "stdout",
     "output_type": "stream",
     "text": [
      "username1\n",
      "None\n",
      "Username2\n",
      "None\n",
      "student1\n",
      "None\n"
     ]
    }
   ],
   "source": [
    "#I try it\n",
    "class Exam:\n",
    "    code1=\"password\"\n",
    "    code2=\"set\"\n",
    "class Student1(Exam):\n",
    "    def main2(self):\n",
    "        UserName1=\"Kalyani\"\n",
    "        Password1=\"123@\"\n",
    "        print(\"student1\")\n",
    "class Student2(Exam):\n",
    "    def main1(self):\n",
    "        UserName1=\"vani\"\n",
    "        password2=\"234$\"\n",
    "        print(\"Username2\")\n",
    "class developer(Student1,Student2):\n",
    "    #student_details=12\n",
    "    def main(self):\n",
    "        print(\"username1\")\n",
    "obj=developer()\n",
    "print(obj.main())\n",
    "print(obj.main1())\n",
    "print(obj.main2())\n"
   ]
  },
  {
   "cell_type": "code",
   "execution_count": 5,
   "id": "f78ae752",
   "metadata": {},
   "outputs": [
    {
     "name": "stdout",
     "output_type": "stream",
     "text": [
      "5.458389619960369\n",
      "8\n"
     ]
    }
   ],
   "source": [
    "from random import random,randint\n",
    "a=randint(1,10)\n",
    "id=random()*1000\n",
    "print(id)\n",
    "print(a)"
   ]
  },
  {
   "cell_type": "code",
   "execution_count": 26,
   "id": "e73ac33b",
   "metadata": {},
   "outputs": [
    {
     "name": "stdout",
     "output_type": "stream",
     "text": [
      "paper\n",
      "1\n",
      "Draw Match\n"
     ]
    }
   ],
   "source": [
    "#code is not completed\n",
    "from random import randint\n",
    "a=randint(1,3)\n",
    "if(a==1):\n",
    "    b='rock'\n",
    "elif(a==2):\n",
    "    b='paper'\n",
    "else:\n",
    "    b='scissor'\n",
    "player2=input()\n",
    "print(a)\n",
    "if(a!=n):\n",
    "    if(b=='paper' and player2=='rock'):\n",
    "        print(\"a Wins\")\n",
    "    if(b=='scissor')\n",
    "    elif(b=='rock' and n=='paper'):\n",
    "        print(\"Player 2 wins\")\n",
    "    elif(b=='rock' and n=='scissor'):\n",
    "        print(\"Player 2 wins\")\n",
    "    elif(a==3 and n=='rock'):\n",
    "        print(\"a wins\")\n",
    "else:\n",
    "    print(\"Draw Match\")"
   ]
  },
  {
   "cell_type": "code",
   "execution_count": 28,
   "id": "3185db87",
   "metadata": {},
   "outputs": [
    {
     "name": "stdout",
     "output_type": "stream",
     "text": [
      "choose among the following ['rock', 'paper', 'scissor']\n",
      "Player choice: rock\n",
      "System choice:paper\n",
      "your score: 0,system score:1\n",
      "choose among the following ['rock', 'paper', 'scissor']\n",
      "Player choice: paper\n",
      "System choice:rock\n",
      "your score: 1,system score:1\n",
      "choose among the following ['rock', 'paper', 'scissor']\n",
      "Player choice: paper\n",
      "System choice:scissor\n",
      "your score: 1,system score:2\n",
      "choose among the following ['rock', 'paper', 'scissor']\n",
      "Player choice: scissor\n",
      "System choice:paper\n",
      "your score: 2,system score:2\n",
      "choose among the following ['rock', 'paper', 'scissor']\n",
      "Player choice: roc\n",
      "Invalid input\n",
      "choose among the following ['rock', 'paper', 'scissor']\n",
      "Player choice: paper\n",
      "System choice:scissor\n",
      "your score: 2,system score:3\n",
      "System wins the match\n"
     ]
    }
   ],
   "source": [
    "#Rock,paper,scissor game\n",
    "choice=['rock','paper','scissor']\n",
    "p_score=0\n",
    "c_score=0\n",
    "limit=3\n",
    "while(p_score!=limit and c_score!=limit):\n",
    "    print(f\"choose among the following\",choice)\n",
    "    my_ch=input(\"Player choice: \").lower()\n",
    "    if my_ch not in choice:\n",
    "        print(\"Invalid input\")\n",
    "        continue\n",
    "    sys_ch=choice[int(randint(0,2))]\n",
    "    print(f\"System choice:{sys_ch}\")\n",
    "    if my_ch==sys_ch:\n",
    "        print(\"--Draw--\")\n",
    "        continue\n",
    "    if my_ch==\"rock\" and sys_ch==\"scissor\":\n",
    "        p_score+=1\n",
    "    elif(my_ch==\"paper\" and sys_ch==\"rock\"):\n",
    "        p_score+=1\n",
    "    elif(my_ch==\"scissor\" and sys_ch==\"paper\"):\n",
    "        p_score+=1\n",
    "    else:\n",
    "        c_score+=1\n",
    "    print(f\"your score: {p_score},system score:{c_score}\")\n",
    "if(p_score>c_score):\n",
    "    print(\"You wins the match\")\n",
    "else:\n",
    "    print(\"System wins the match\")\n",
    "        "
   ]
  },
  {
   "cell_type": "code",
   "execution_count": 4,
   "id": "762c3b01",
   "metadata": {},
   "outputs": [
    {
     "name": "stdout",
     "output_type": "stream",
     "text": [
      "value is 10\n"
     ]
    }
   ],
   "source": [
    "#Polymorphism\n",
    "class A:\n",
    "    def method_1(self,a,b):\n",
    "        print(\"sum of 2 numbers:\",a+b)\n",
    "class B:\n",
    "    def method_1(self,a,b):\n",
    "        print(\"mul of 2 numbers:\",a,b)\n",
    "    def method_1(self,abc,a):\n",
    "        print(\"value is\",abc)\n",
    "ob=B()\n",
    "ob.method_1(10,20)"
   ]
  },
  {
   "cell_type": "code",
   "execution_count": 5,
   "id": "160e5ded",
   "metadata": {},
   "outputs": [
    {
     "name": "stdout",
     "output_type": "stream",
     "text": [
      "5\n",
      "9\n"
     ]
    }
   ],
   "source": [
    "#polymorphism\n",
    "def add(x, y, z = 0):\n",
    "    return x + y+z\n",
    " \n",
    "# Driver code\n",
    "print(add(2, 3))\n",
    "print(add(2, 3, 4))"
   ]
  },
  {
   "cell_type": "code",
   "execution_count": 9,
   "id": "55750b57",
   "metadata": {},
   "outputs": [
    {
     "name": "stdout",
     "output_type": "stream",
     "text": [
      "In class B\n"
     ]
    }
   ],
   "source": [
    "#method overloading (same method name in different signature)\n",
    "def m1(a,b,c=0):\n",
    "    print(a+b)\n",
    "def m1(a,b,c):\n",
    "    print(a*b*c)\n",
    "m1(10,20,30)"
   ]
  },
  {
   "cell_type": "code",
   "execution_count": 19,
   "id": "ce69f705",
   "metadata": {},
   "outputs": [
    {
     "name": "stdout",
     "output_type": "stream",
     "text": [
      "it is square\n"
     ]
    }
   ],
   "source": [
    "#Abstraction\n",
    "#we have to inherit the ABC class to write abstract programs\n",
    "from abc import ABC,abstractmethod\n",
    "class Area(ABC):      #Abstract class  \n",
    "    @abstractmethod   #Annotation   \n",
    "    def calculate_area(self): #Abstract method dont have body\n",
    "        pass\n",
    "    @abstractmethod\n",
    "    def calculate_circle_area(self): \n",
    "        pass\n",
    "class Square(Area):\n",
    "    def calculate_area(self):\n",
    "        print(\"it is square\")\n",
    "    def calculate_circle_area(self): #It is not useful but we defined it because we defined in abstract method\n",
    "        pass\n",
    "obj1=Square()\n",
    "obj1.calculate_area()"
   ]
  },
  {
   "cell_type": "code",
   "execution_count": 24,
   "id": "625a0a2d",
   "metadata": {},
   "outputs": [
    {
     "name": "stdout",
     "output_type": "stream",
     "text": [
      "the hospital is not good\n",
      "doctors\n"
     ]
    }
   ],
   "source": [
    "from abc import ABC,abstractmethod\n",
    "class hospital(ABC):\n",
    "    @abstractmethod\n",
    "    def owners(self):\n",
    "        pass\n",
    "    @abstractmethod\n",
    "    def doctors(self):\n",
    "        pass\n",
    "class patients(hospital):\n",
    "    def owners(self):\n",
    "        print(\"the hospital is not good\")\n",
    "    def doctors(self):\n",
    "        print(\"doctors\")\n",
    "class B(hospital):\n",
    "    pass\n",
    "obj=patients()\n",
    "obj.owners()\n",
    "obj.doctors()\n",
    "        "
   ]
  },
  {
   "cell_type": "code",
   "execution_count": 14,
   "id": "e18b1229",
   "metadata": {},
   "outputs": [
    {
     "name": "stdout",
     "output_type": "stream",
     "text": [
      "101\n",
      "101\n",
      "0\n"
     ]
    }
   ],
   "source": [
    "def invert(string):\n",
    "    res=\"\"\n",
    "    for i in string:\n",
    "        if i=='0':\n",
    "            res+='1'\n",
    "        else:\n",
    "            res+='0'\n",
    "    return res\n",
    "a=5\n",
    "b=7\n",
    "op='^'\n",
    "res=\"\"\n",
    "new_a=bin(a)[2:]\n",
    "new_b=bin(a)[2:]\n",
    "print(new_a)\n",
    "print(new_b)\n",
    "new_a1=invert(new_a)\n",
    "new_b1=invert(new_b)\n",
    "print(int(new_a1)^int(new_b1))"
   ]
  },
  {
   "cell_type": "code",
   "execution_count": 3,
   "id": "e3e9d783",
   "metadata": {},
   "outputs": [
    {
     "name": "stdout",
     "output_type": "stream",
     "text": [
      "[10, 8, 10, 12, 2]\n"
     ]
    }
   ],
   "source": [
    "#Day 5 code 1\n",
    "arr1=[1,2,3,4,5]\n",
    "arr2=[7,8,9,10,11]\n",
    "arr2=arr2[::-1]\n",
    "l1=[]\n",
    "for i in range(len(arr1)):\n",
    "    d=arr1[i]^arr2[i]\n",
    "    l1.append(d)\n",
    "print(l1)\n",
    "    "
   ]
  },
  {
   "cell_type": "code",
   "execution_count": 6,
   "id": "c3248c95",
   "metadata": {},
   "outputs": [
    {
     "name": "stdout",
     "output_type": "stream",
     "text": [
      "4\n"
     ]
    }
   ],
   "source": [
    "#Day5 code 1\n",
    "arr1=[3,3,4,4,2,4,4,4]\n",
    "N=len(arr1)//2\n",
    "temp=False\n",
    "for i in arr1:\n",
    "    d=arr1.count(i)\n",
    "    if(d>=N):\n",
    "        print(i)\n",
    "        temp=True\n",
    "        break\n",
    "if(temp==False):\n",
    "    print(\"No Majority element\")\n",
    "    "
   ]
  },
  {
   "cell_type": "code",
   "execution_count": 16,
   "id": "7d1c8ccf",
   "metadata": {},
   "outputs": [
    {
     "name": "stdout",
     "output_type": "stream",
     "text": [
      "10 20\n"
     ]
    }
   ],
   "source": [
    "class vehicle:\n",
    "    a=\"a\"\n",
    "    b=\"b\"\n",
    "    def __init__(self,a,b):\n",
    "        self.a=a\n",
    "        self.b=b\n",
    "    def drive(self,a,b):\n",
    "        print(a,b)\n",
    "    \n",
    "class Bus(vehicle):\n",
    "    def method(self):\n",
    "        name=\"bfghf\"\n",
    "obj=Bus(10,20)\n",
    "obj.drive(10,20)"
   ]
  },
  {
   "cell_type": "code",
   "execution_count": null,
   "id": "ac0cb24c",
   "metadata": {},
   "outputs": [],
   "source": []
  }
 ],
 "metadata": {
  "kernelspec": {
   "display_name": "Python 3 (ipykernel)",
   "language": "python",
   "name": "python3"
  },
  "language_info": {
   "codemirror_mode": {
    "name": "ipython",
    "version": 3
   },
   "file_extension": ".py",
   "mimetype": "text/x-python",
   "name": "python",
   "nbconvert_exporter": "python",
   "pygments_lexer": "ipython3",
   "version": "3.9.7"
  }
 },
 "nbformat": 4,
 "nbformat_minor": 5
}
