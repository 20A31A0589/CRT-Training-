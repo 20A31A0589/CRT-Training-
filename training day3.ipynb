{
 "cells": [
  {
   "cell_type": "code",
   "execution_count": 6,
   "id": "e4b24f68",
   "metadata": {},
   "outputs": [
    {
     "name": "stdout",
     "output_type": "stream",
     "text": [
      "1\n",
      "2\n",
      "3\n",
      "4\n",
      "5\n",
      "[1, 2, 3, 4, 5]\n"
     ]
    }
   ],
   "source": [
    "l=[]\n",
    "for i in range(5):\n",
    "    try:\n",
    "        a=int(input())\n",
    "        l.append(a)\n",
    "    except:\n",
    "        print(\"a is not integer\")\n",
    "print(l)"
   ]
  },
  {
   "cell_type": "code",
   "execution_count": 7,
   "id": "692b7c09",
   "metadata": {},
   "outputs": [
    {
     "name": "stdout",
     "output_type": "stream",
     "text": [
      "6.3999999999999995\n"
     ]
    }
   ],
   "source": [
    "print(eval(\"1+3/5*9\")) #calculating"
   ]
  },
  {
   "cell_type": "code",
   "execution_count": 9,
   "id": "76838fae",
   "metadata": {},
   "outputs": [
    {
     "name": "stdout",
     "output_type": "stream",
     "text": [
      "12\n"
     ]
    }
   ],
   "source": [
    "def add(num1,num2):\n",
    "    re=num1+num2\n",
    "    return re\n",
    "c=add(10,2)\n",
    "print(c)"
   ]
  },
  {
   "cell_type": "code",
   "execution_count": 23,
   "id": "b0280fdd",
   "metadata": {},
   "outputs": [
    {
     "name": "stdout",
     "output_type": "stream",
     "text": [
      "23\n",
      "prime number\n"
     ]
    }
   ],
   "source": [
    "\n",
    "def prime(num1):\n",
    "    temp=False\n",
    "    for i in range(2,num1//2):  #num1/2 iterations\n",
    "        if(num1%i==0):\n",
    "            temp=True\n",
    "    if(temp==False):\n",
    "        print(\"prime number\")\n",
    "    else:\n",
    "        print(\"not prime\")\n",
    "prime(int(input()))\n",
    "    "
   ]
  },
  {
   "cell_type": "code",
   "execution_count": 26,
   "id": "a1fe6b69",
   "metadata": {},
   "outputs": [
    {
     "name": "stdout",
     "output_type": "stream",
     "text": [
      "23\n",
      "prime\n"
     ]
    }
   ],
   "source": [
    "def prime(num1):\n",
    "    temp=0\n",
    "    for i in range(2,num1//2):  #num1/2 iterations\n",
    "        if(num1%i==0):\n",
    "            temp+=1\n",
    "    if(temp==2):\n",
    "        print(\"not prime number\")\n",
    "    else:\n",
    "        print(\"prime\")\n",
    "prime(int(input()))"
   ]
  },
  {
   "cell_type": "code",
   "execution_count": 30,
   "id": "7700daec",
   "metadata": {},
   "outputs": [
    {
     "name": "stdout",
     "output_type": "stream",
     "text": [
      "10\n"
     ]
    }
   ],
   "source": [
    "def add(a,b=0): #default value arguments\n",
    "    return a+b\n",
    "a=10\n",
    "b=10\n",
    "print(add(a))"
   ]
  },
  {
   "cell_type": "code",
   "execution_count": 31,
   "id": "95aa2296",
   "metadata": {},
   "outputs": [
    {
     "name": "stdout",
     "output_type": "stream",
     "text": [
      "3 10 6 9\n"
     ]
    }
   ],
   "source": [
    "#keyword arguments(we will give arguments to the function while calling no specific order but names should be same)\n",
    "def add(a,b,c,d):\n",
    "    print(a,b,c,d)\n",
    "add(b=10,c=6,a=3,d=9)"
   ]
  },
  {
   "cell_type": "code",
   "execution_count": 33,
   "id": "e1bbdfe1",
   "metadata": {},
   "outputs": [
    {
     "name": "stdout",
     "output_type": "stream",
     "text": [
      "10 20 30 40\n"
     ]
    }
   ],
   "source": [
    "def add(a,b,c,d):\n",
    "    print(a,b,c,d)\n",
    "add(10,20,c=30,d=40)"
   ]
  },
  {
   "cell_type": "code",
   "execution_count": 34,
   "id": "b142ffa9",
   "metadata": {},
   "outputs": [
    {
     "name": "stdout",
     "output_type": "stream",
     "text": [
      "(10, 20, 30, 40)\n"
     ]
    }
   ],
   "source": [
    "#variable length arguments takes any number of arguments and datatype is tuple\n",
    "def add(*abc):\n",
    "    print(abc)\n",
    "add(10,20,30,40)"
   ]
  },
  {
   "cell_type": "code",
   "execution_count": 36,
   "id": "3c94387c",
   "metadata": {},
   "outputs": [
    {
     "name": "stdout",
     "output_type": "stream",
     "text": [
      "10\n",
      "20\n",
      "60\n"
     ]
    }
   ],
   "source": [
    "def add(a,b,*abc):\n",
    "    res1=1  #whenever we use variable length  argument make sure it is last argument\n",
    "    print(a)\n",
    "    print(b)\n",
    "    for i in abc:\n",
    "        res1*=i\n",
    "    return res1\n",
    "print(add(10,20,3,4,5))"
   ]
  },
  {
   "cell_type": "code",
   "execution_count": 1,
   "id": "aa3ff427",
   "metadata": {},
   "outputs": [
    {
     "name": "stdout",
     "output_type": "stream",
     "text": [
      "5\n",
      "4\n",
      "3\n",
      "2\n",
      "1\n",
      "0\n"
     ]
    }
   ],
   "source": [
    "def check(n):\n",
    "    print(n)\n",
    "    if(n>0):\n",
    "        check(n-1)\n",
    "check(5)"
   ]
  },
  {
   "cell_type": "code",
   "execution_count": 6,
   "id": "c4233b71",
   "metadata": {},
   "outputs": [
    {
     "name": "stdout",
     "output_type": "stream",
     "text": [
      "His last name is Tobias\n"
     ]
    }
   ],
   "source": [
    "def my_function(**kid):\n",
    "  print(\"His last name is \" + kid[\"fname\"])\n",
    "\n",
    "my_function(fname=\"Tobias\",lname=\"Refsnes\")"
   ]
  },
  {
   "cell_type": "code",
   "execution_count": 8,
   "id": "eeca9799",
   "metadata": {},
   "outputs": [
    {
     "name": "stdout",
     "output_type": "stream",
     "text": [
      "['abv', 'abv', 'abv', 'abv', 'abv']\n"
     ]
    }
   ],
   "source": [
    "#day4\n",
    "l=[\"abv\"]*5\n",
    "print(l)\n"
   ]
  },
  {
   "cell_type": "code",
   "execution_count": 12,
   "id": "4b14b24b",
   "metadata": {},
   "outputs": [
    {
     "name": "stdout",
     "output_type": "stream",
     "text": [
      "15\n"
     ]
    }
   ],
   "source": [
    "#operators\n",
    "#& bitwise and\n",
    "#| bitwise or\n",
    "#^ bitwise xor if any two operands are same returns False else returns True\n",
    "print(5^10)"
   ]
  },
  {
   "cell_type": "code",
   "execution_count": null,
   "id": "88a7f441",
   "metadata": {},
   "outputs": [],
   "source": [
    "#packages"
   ]
  }
 ],
 "metadata": {
  "kernelspec": {
   "display_name": "Python 3 (ipykernel)",
   "language": "python",
   "name": "python3"
  },
  "language_info": {
   "codemirror_mode": {
    "name": "ipython",
    "version": 3
   },
   "file_extension": ".py",
   "mimetype": "text/x-python",
   "name": "python",
   "nbconvert_exporter": "python",
   "pygments_lexer": "ipython3",
   "version": "3.9.7"
  }
 },
 "nbformat": 4,
 "nbformat_minor": 5
}
