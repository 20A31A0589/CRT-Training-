{
 "cells": [
  {
   "cell_type": "code",
   "execution_count": 1,
   "id": "fa424699",
   "metadata": {},
   "outputs": [
    {
     "name": "stdout",
     "output_type": "stream",
     "text": [
      "the hospital is not good\n",
      "doctors\n"
     ]
    }
   ],
   "source": [
    "from abc import ABC,abstractmethod\n",
    "class hospital(ABC):\n",
    "    @abstractmethod\n",
    "    def owners(self):\n",
    "        pass\n",
    "    @abstractmethod\n",
    "    def doctors(self):\n",
    "        pass\n",
    "class patients(hospital):\n",
    "    def owners(self):\n",
    "        print(\"the hospital is not good\")\n",
    "    def doctors(self):\n",
    "        print(\"doctors\")\n",
    "class B(hospital):\n",
    "    pass\n",
    "obj=patients()\n",
    "obj.owners()\n",
    "obj.doctors()"
   ]
  },
  {
   "cell_type": "code",
   "execution_count": 2,
   "id": "eb8025d0",
   "metadata": {},
   "outputs": [
    {
     "name": "stdout",
     "output_type": "stream",
     "text": [
      "10\n",
      "Ramesh\n"
     ]
    }
   ],
   "source": [
    "#Inheritance\n",
    "class A:\n",
    "    name=\"Mukesh\"\n",
    "    age=36\n",
    "class B(A):\n",
    "    age=10\n",
    "obj=B()\n",
    "obj.name=\"Ramesh\"\n",
    "print(obj.age)     #first checks with B it presents then print else check for parent class\n",
    "print(obj.name)"
   ]
  },
  {
   "cell_type": "code",
   "execution_count": null,
   "id": "705d6a70",
   "metadata": {},
   "outputs": [],
   "source": []
  }
 ],
 "metadata": {
  "kernelspec": {
   "display_name": "Python 3 (ipykernel)",
   "language": "python",
   "name": "python3"
  },
  "language_info": {
   "codemirror_mode": {
    "name": "ipython",
    "version": 3
   },
   "file_extension": ".py",
   "mimetype": "text/x-python",
   "name": "python",
   "nbconvert_exporter": "python",
   "pygments_lexer": "ipython3",
   "version": "3.9.7"
  }
 },
 "nbformat": 4,
 "nbformat_minor": 5
}
