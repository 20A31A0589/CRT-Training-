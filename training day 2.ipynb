{
 "cells": [
  {
   "cell_type": "code",
   "execution_count": 14,
   "id": "d7a5ad97",
   "metadata": {},
   "outputs": [
    {
     "name": "stdout",
     "output_type": "stream",
     "text": [
      "[1, 2, 3, 4, 5, 10]\n",
      "h 10\n",
      "[1, 2, 3, 4, 5]\n",
      "f None\n",
      "[1, 3, 4, 5]\n",
      "[50, 1, 3, 4, 5]\n",
      "[50, 1, 3, 4, 5, 60, 70, 80]\n"
     ]
    }
   ],
   "source": [
    "l=[1,2,3,4,5]\n",
    "l.append(10)\n",
    "print(l)\n",
    "print(\"h\",l.pop())\n",
    "print(l)\n",
    "print(\"f\",l.remove(2))\n",
    "print(l)\n",
    "l.insert(0,50)\n",
    "print(l)\n",
    "l1=[60,70,80]\n",
    "l.extend(l1)\n",
    "print(l)"
   ]
  },
  {
   "cell_type": "code",
   "execution_count": 17,
   "id": "b3247d0f",
   "metadata": {},
   "outputs": [
    {
     "name": "stdout",
     "output_type": "stream",
     "text": [
      "[3, 2, 1]\n",
      "None\n"
     ]
    }
   ],
   "source": [
    "a=[3,1,2]\n",
    "b=a.sort(reverse=True)\n",
    "print(a)\n",
    "print(b)"
   ]
  },
  {
   "cell_type": "code",
   "execution_count": 18,
   "id": "265c034f",
   "metadata": {},
   "outputs": [
    {
     "name": "stdout",
     "output_type": "stream",
     "text": [
      "[1, 2, 3]\n",
      "[3, 1, 2]\n"
     ]
    }
   ],
   "source": [
    "a=[3,1,2]\n",
    "b=sorted(a)\n",
    "print(b)\n",
    "print(a)"
   ]
  },
  {
   "cell_type": "code",
   "execution_count": 19,
   "id": "404784c2",
   "metadata": {},
   "outputs": [
    {
     "name": "stdout",
     "output_type": "stream",
     "text": [
      "[3, 2, 1]\n"
     ]
    }
   ],
   "source": [
    "a=[1,2,3]\n",
    "a.reverse()\n",
    "print(a)"
   ]
  },
  {
   "cell_type": "code",
   "execution_count": 23,
   "id": "726848ab",
   "metadata": {},
   "outputs": [
    {
     "name": "stdout",
     "output_type": "stream",
     "text": [
      "[3, 2, 1]\n",
      "[]\n"
     ]
    }
   ],
   "source": [
    "a=[1,2,3]\n",
    "b=list(reversed(a))\n",
    "print(b)\n",
    "a.clear()\n",
    "print(a)"
   ]
  },
  {
   "cell_type": "code",
   "execution_count": 27,
   "id": "07f57dab",
   "metadata": {},
   "outputs": [
    {
     "name": "stdout",
     "output_type": "stream",
     "text": [
      "12\n"
     ]
    }
   ],
   "source": [
    "a='1'\n",
    "b=2\n",
    "c=a+b\n",
    "print(c)"
   ]
  },
  {
   "cell_type": "code",
   "execution_count": 30,
   "id": "bf0c3956",
   "metadata": {},
   "outputs": [
    {
     "name": "stdout",
     "output_type": "stream",
     "text": [
      "[1, 2, 3, 4, 5]\n"
     ]
    }
   ],
   "source": [
    "a='12345'\n",
    "b=list(map(int,a))\n",
    "print(b)"
   ]
  },
  {
   "cell_type": "code",
   "execution_count": 33,
   "id": "abef00f5",
   "metadata": {},
   "outputs": [
    {
     "name": "stdout",
     "output_type": "stream",
     "text": [
      "12345\n"
     ]
    }
   ],
   "source": [
    "b=[1,2,3,4,5]\n",
    "c=\"\".join(map(str,b))\n",
    "print(c)"
   ]
  },
  {
   "cell_type": "code",
   "execution_count": 35,
   "id": "9d4d8977",
   "metadata": {},
   "outputs": [
    {
     "name": "stdout",
     "output_type": "stream",
     "text": [
      "1\n"
     ]
    }
   ],
   "source": [
    "t=(10,20,30,40,20) #count\n",
    "res=t.index(20)  #first occurance\n",
    "print(res)"
   ]
  },
  {
   "cell_type": "code",
   "execution_count": 44,
   "id": "1a40fc50",
   "metadata": {},
   "outputs": [
    {
     "name": "stdout",
     "output_type": "stream",
     "text": [
      "{3, 4}\n",
      "{1, 2, 3, 4, 5, 6}\n",
      "{1, 2}\n",
      "{1, 2}\n"
     ]
    }
   ],
   "source": [
    "s1={1,2,3,4}\n",
    "s2={3,4,5,6}\n",
    "res1=s1.intersection(s2)\n",
    "print(res1)\n",
    "res2=s1.union(s2)\n",
    "print(res2)\n",
    "res3=s1.difference(s2)\n",
    "print(res3)\n",
    "#add,clear,copy\n",
    "res4=s1.difference_update(s2)\n",
    "print(s1)\n"
   ]
  },
  {
   "cell_type": "code",
   "execution_count": 45,
   "id": "cb57aa00",
   "metadata": {},
   "outputs": [
    {
     "name": "stdout",
     "output_type": "stream",
     "text": [
      "10\n",
      "even\n"
     ]
    }
   ],
   "source": [
    "a=int(input())\n",
    "if(a%2==0):\n",
    "    print(\"even\")\n",
    "else:\n",
    "    print(\"odd\")"
   ]
  },
  {
   "cell_type": "code",
   "execution_count": 46,
   "id": "800b72bc",
   "metadata": {},
   "outputs": [
    {
     "name": "stdout",
     "output_type": "stream",
     "text": [
      "string\n"
     ]
    }
   ],
   "source": [
    "value = ('s', 't', 'r', 'i', 'n', 'g')\n",
    "t=\"\".join(value)\n",
    "print(t)"
   ]
  },
  {
   "cell_type": "code",
   "execution_count": 52,
   "id": "582ca80f",
   "metadata": {},
   "outputs": [
    {
     "name": "stdout",
     "output_type": "stream",
     "text": [
      "{1, 2, 3, 5}\n",
      "Ford\n"
     ]
    }
   ],
   "source": [
    "s={1,5,2,1,2,3,1}\n",
    "print(s)\n",
    "thisdict = {\n",
    "  \"brand\": \"Ford\",\n",
    "  \"model\": \"Mustang\",\n",
    "  \"year\": 1964\n",
    "}\n",
    "print(thisdict[\"brand\"])"
   ]
  },
  {
   "cell_type": "code",
   "execution_count": 66,
   "id": "2236d282",
   "metadata": {},
   "outputs": [
    {
     "name": "stdout",
     "output_type": "stream",
     "text": [
      "{'brand': 'Ford', 'model': 'Mustang', 'year': 2020}\n"
     ]
    }
   ],
   "source": [
    "thisdict = {\n",
    "  \"brand\": \"Ford\",\n",
    "  \"model\": \"Mustang\",\n",
    "  \"year\": 1964, #Duplicate values will overwrite existing values\n",
    "  \"year\": 2020 \n",
    "}\n",
    "print(thisdict)"
   ]
  },
  {
   "cell_type": "code",
   "execution_count": 57,
   "id": "b8b56281",
   "metadata": {},
   "outputs": [
    {
     "name": "stdout",
     "output_type": "stream",
     "text": [
      "8\n",
      "Invalid integer\n"
     ]
    }
   ],
   "source": [
    "a=int(input())\n",
    "if(a==1):\n",
    "    print(\"Monday\")\n",
    "elif(a==2):\n",
    "    print(\"Tuesday\")\n",
    "elif(a==3):\n",
    "    print(\"wednesday\")\n",
    "elif(a==4):\n",
    "    print(\"Thursday\")\n",
    "elif(a==5):\n",
    "    print(\"Friday\")\n",
    "elif(a==6):\n",
    "    print(\"Saturday\")\n",
    "elif(a==7):\n",
    "    print(\"Sunday\")\n",
    "else:\n",
    "    print(\"Invalid integer\")"
   ]
  },
  {
   "cell_type": "code",
   "execution_count": 60,
   "id": "641b790e",
   "metadata": {},
   "outputs": [
    {
     "name": "stdout",
     "output_type": "stream",
     "text": [
      "89\n",
      "Normal number\n"
     ]
    }
   ],
   "source": [
    "#>0 and <20 and even\n",
    "#>=20 normal odd\n",
    "#>=30 and odd normal\n",
    "a=int(input())\n",
    "if(a>0 and a<20):\n",
    "    if(a%2==0):\n",
    "        print(\"Weird\")\n",
    "    else:\n",
    "        print(\"Normal\")\n",
    "elif(a>=20 and a<30):\n",
    "    print(\"Normal number\")\n",
    "elif(a>=30):\n",
    "    if(a%2!=0):\n",
    "        print(\"Normal number\")\n",
    "    else:\n",
    "        print(\"Weird number\")"
   ]
  },
  {
   "cell_type": "code",
   "execution_count": 65,
   "id": "144bdd67",
   "metadata": {},
   "outputs": [
    {
     "name": "stdout",
     "output_type": "stream",
     "text": [
      "5\n"
     ]
    }
   ],
   "source": [
    "l=[10,20,20,30,40]\n",
    "a=l.count(20)\n",
    "print(len(l))\n"
   ]
  },
  {
   "cell_type": "code",
   "execution_count": 5,
   "id": "d17d4929",
   "metadata": {},
   "outputs": [
    {
     "name": "stdout",
     "output_type": "stream",
     "text": [
      "89\n",
      "{'vani': '89', 'sailu': '78', 'sri': '95', 'key1': 'value3', 'key2': 'value2'}\n"
     ]
    }
   ],
   "source": [
    "\n",
    "d={\"vani\":\"89\",\"sailu\":\"78\",\"sri\":\"95\"}\n",
    "print(d[\"vani\"])\n",
    "d.update({'key1':'value1'})\n",
    "d.update({'key2':'value2'})\n",
    "d.update({'key1':'value3'})\n",
    "print(d)"
   ]
  },
  {
   "cell_type": "code",
   "execution_count": 5,
   "id": "8a1f3488",
   "metadata": {},
   "outputs": [
    {
     "name": "stdout",
     "output_type": "stream",
     "text": [
      "589   vani\n",
      "578   sailu\n",
      "595   sri\n",
      "501   vann\n"
     ]
    }
   ],
   "source": [
    "b={'589':'vani','578':'sailu','595':'sri'}\n",
    "b.update({'501':'vann'})\n",
    "for i in b:\n",
    "    print(i,\" \",b[i])"
   ]
  },
  {
   "cell_type": "code",
   "execution_count": 5,
   "id": "86e88c33",
   "metadata": {},
   "outputs": [
    {
     "name": "stdout",
     "output_type": "stream",
     "text": [
      "[2, 4, 6, 8]\n"
     ]
    }
   ],
   "source": [
    "print(list(range(2,10,2)))"
   ]
  },
  {
   "cell_type": "code",
   "execution_count": 15,
   "id": "f03c1946",
   "metadata": {},
   "outputs": [
    {
     "name": "stdout",
     "output_type": "stream",
     "text": [
      "1 2 3 4 5 6 7 8 9 \n",
      "\n",
      "1 4 9 16 "
     ]
    }
   ],
   "source": [
    "for i in range(1,10):\n",
    "    print(i,end=\" \")\n",
    "print(\"\\n\")\n",
    "lst=[1,2,3,4]\n",
    "for i in lst:\n",
    "    print(i*i,end=\" \")"
   ]
  },
  {
   "cell_type": "code",
   "execution_count": 32,
   "id": "6ff43877",
   "metadata": {},
   "outputs": [
    {
     "name": "stdout",
     "output_type": "stream",
     "text": [
      "43\n",
      "1\n",
      "2\n"
     ]
    }
   ],
   "source": [
    "a=int(input())\n",
    "l=[56,43,43,78,345,789,\"hello\",[1,2,3,4]]\n",
    "for i in range(0,len(l)):\n",
    "    if(l[i]==a):\n",
    "        print(i)\n",
    "        temp=True\n",
    "        #break\n",
    "if(temp==False):\n",
    "    print(\"not present in list\")"
   ]
  },
  {
   "cell_type": "code",
   "execution_count": 35,
   "id": "2ae8e7ba",
   "metadata": {},
   "outputs": [
    {
     "name": "stdout",
     "output_type": "stream",
     "text": [
      "[0, 2, 4, 6, 8]\n"
     ]
    }
   ],
   "source": [
    "l=[i for i in range(0,10) if i%2==0]\n",
    "print(l)"
   ]
  },
  {
   "cell_type": "code",
   "execution_count": 40,
   "id": "711100bf",
   "metadata": {},
   "outputs": [
    {
     "name": "stdout",
     "output_type": "stream",
     "text": [
      "[77]\n"
     ]
    }
   ],
   "source": [
    "l=[i for i in range(1,101) if i%7==0 and i%11==0]\n",
    "print(l)"
   ]
  },
  {
   "cell_type": "code",
   "execution_count": 41,
   "id": "587e7779",
   "metadata": {},
   "outputs": [
    {
     "name": "stdout",
     "output_type": "stream",
     "text": [
      "1 2 3 4\n",
      "[1, 2, 3, 4]\n"
     ]
    }
   ],
   "source": [
    "l=list(map(int,input().split()))\n",
    "print(l)"
   ]
  },
  {
   "cell_type": "code",
   "execution_count": 3,
   "id": "c47f9386",
   "metadata": {},
   "outputs": [
    {
     "name": "stdout",
     "output_type": "stream",
     "text": [
      "va\n",
      "12\n",
      "er\n",
      "23\n",
      "{'key1': 'er', 'key2': '23'}\n"
     ]
    }
   ],
   "source": [
    "#to create 5 dict in user input and store it in list 1 method\n",
    "\n",
    "d={}\n",
    "for i in range(2):\n",
    "    d.update({\n",
    "        'key1':input(),\n",
    "        'key2':input()\n",
    "    })\n",
    "print(d)     #same reference variable code refactoring\n"
   ]
  },
  {
   "cell_type": "code",
   "execution_count": 17,
   "id": "d8867222",
   "metadata": {},
   "outputs": [
    {
     "name": "stdout",
     "output_type": "stream",
     "text": [
      "[{'username1': '12345', 'username2': '45678'}, {'username1': '12345', 'username2': '45678'}]\n"
     ]
    }
   ],
   "source": [
    "l=[]\n",
    "for i in range(2):\n",
    "    d={}\n",
    "    d.update({\n",
    "        'username1':'12345',\n",
    "        'username2':'45678'\n",
    "    })\n",
    "    l.append(d)\n",
    "print(l)"
   ]
  },
  {
   "cell_type": "code",
   "execution_count": 31,
   "id": "fa55268f",
   "metadata": {},
   "outputs": [
    {
     "name": "stdout",
     "output_type": "stream",
     "text": [
      "user2\n",
      "456\n",
      "valid username\n"
     ]
    }
   ],
   "source": [
    "# check username are valid or not\n",
    "l=[]\n",
    "temp=0\n",
    "f=input()\n",
    "g=input()\n",
    "s1=[{'user1':'123'},\n",
    "    {'user3':'789'},\n",
    "     {'user4':'100'}]\n",
    "#s2=dict(s1)\n",
    "for i in s1:\n",
    "    if(i==f):\n",
    "        print(\"valid username\")\n",
    "        temp=True\n",
    "if(temp==False):\n",
    "    print(\"non valid username\")"
   ]
  },
  {
   "cell_type": "code",
   "execution_count": 33,
   "id": "7af3fef8",
   "metadata": {},
   "outputs": [
    {
     "name": "stdout",
     "output_type": "stream",
     "text": [
      "dict_items([('user1', '123')])\n",
      "dict_values(['123'])\n",
      "dict_keys(['user1'])\n",
      "dict_items([('user3', '789')])\n",
      "dict_values(['789'])\n",
      "dict_keys(['user3'])\n",
      "dict_items([('user4', '100')])\n",
      "dict_values(['100'])\n",
      "dict_keys(['user4'])\n",
      "user1\n",
      "123\n",
      "found\n"
     ]
    }
   ],
   "source": [
    "s1=[{'user1':'123'},\n",
    "    {'user3':'789'},\n",
    "     {'user4':'100'}]\n",
    "for i in s1:\n",
    "    print(i.items())\n",
    "    print(i.values())\n",
    "    print(i.keys())\n",
    "username=input()\n",
    "password=input()\n",
    "temp={username:password}\n",
    "if temp in s1:\n",
    "    print(\"found\")\n",
    "else:\n",
    "    print(\"not found\")"
   ]
  },
  {
   "cell_type": "code",
   "execution_count": 36,
   "id": "743451d5",
   "metadata": {},
   "outputs": [
    {
     "name": "stdout",
     "output_type": "stream",
     "text": [
      "user1\n",
      "123\n",
      "enter other username\n",
      "[{'user1': '123'}, {'user3': '789'}, {'user4': '100'}]\n"
     ]
    }
   ],
   "source": [
    "s1=[{'user1':'123'},\n",
    "    {'user3':'789'},\n",
    "     {'user4':'100'}]\n",
    "username=input()\n",
    "password=input()\n",
    "temp={username:password}\n",
    "if temp not in s1:\n",
    "    print(\"registered successfully\")\n",
    "    s1.append(temp)\n",
    "else:\n",
    "    print(\"enter other username\")\n",
    "print(s1)\n"
   ]
  },
  {
   "cell_type": "code",
   "execution_count": 47,
   "id": "49b5d34c",
   "metadata": {},
   "outputs": [
    {
     "name": "stdout",
     "output_type": "stream",
     "text": [
      "1\n",
      "2\n",
      "3\n",
      "4\n",
      "[[1, 2], [3, 4]]\n",
      "4\n",
      "5\n",
      "6\n",
      "[[4], [5], [6]]\n"
     ]
    }
   ],
   "source": [
    "# 2D array\n",
    "row=2\n",
    "col=2\n",
    "arr=[]\n",
    "#for k in range(2):\n",
    "for i in range(row):\n",
    "    element=[]\n",
    "    for j in range(col):\n",
    "        element.append(int(input()))\n",
    "    arr.append(element)\n",
    "print(arr)\n",
    "arr2=[]\n",
    "for i in range(3):\n",
    "    temp=list(map(int,input().split()))\n",
    "    arr2.append(temp)\n",
    "print(arr2)\n"
   ]
  },
  {
   "cell_type": "code",
   "execution_count": 46,
   "id": "96ae64d2",
   "metadata": {},
   "outputs": [
    {
     "name": "stdout",
     "output_type": "stream",
     "text": [
      "1 2 3\n",
      "4 5 6\n",
      "7 8 9\n",
      "[[1, 2, 3], [4, 5, 6], [7, 8, 9]]\n",
      "3 2 1\n",
      "5 6 7\n",
      "4 3 2\n",
      "[[3, 2, 1], [5, 6, 7], [4, 3, 2]]\n",
      "[[4, 4, 4], [9, 11, 13], [11, 11, 11]]\n"
     ]
    }
   ],
   "source": [
    "#add two matrices\n",
    "arr2=[]\n",
    "row=3\n",
    "col=3\n",
    "for i in range(row):\n",
    "    temp=list(map(int,input().split()))\n",
    "    arr2.append(temp)\n",
    "print(arr2)\n",
    "arr3=[]\n",
    "for i in range(row):\n",
    "    temp=list(map(int,input().split()))\n",
    "    arr3.append(temp)\n",
    "print(arr3)\n",
    "res=[[0 for j in range(col)] for i in range(row)]\n",
    "for i in range(row):\n",
    "    for j in range(col):\n",
    "        res[i][j]=arr2[i][j]+arr3[i][j]\n",
    "print(res)\n",
    "    \n"
   ]
  },
  {
   "cell_type": "code",
   "execution_count": 52,
   "id": "d57176d5",
   "metadata": {},
   "outputs": [
    {
     "name": "stdout",
     "output_type": "stream",
     "text": [
      "1 2 3\n",
      "4 5 7\n",
      "4 5 7\n",
      "[[1, 2, 3], [4, 5, 7], [4, 5, 7]]\n",
      "1 4 4 \n",
      "2 5 5 \n",
      "3 7 7 \n"
     ]
    }
   ],
   "source": [
    "# transpose the arr\n",
    "arr2=[]\n",
    "row=3\n",
    "col=3\n",
    "for i in range(row):\n",
    "    temp=list(map(int,input().split()))\n",
    "    arr2.append(temp)\n",
    "print(arr2)\n",
    "for i in range(row):\n",
    "    for j in range(col):\n",
    "        print(arr2[j][i],end=\" \")\n",
    "    print()"
   ]
  },
  {
   "cell_type": "code",
   "execution_count": 56,
   "id": "d2b176de",
   "metadata": {},
   "outputs": [
    {
     "name": "stdout",
     "output_type": "stream",
     "text": [
      "1\n",
      "2\n",
      "3\n",
      "4\n"
     ]
    },
    {
     "data": {
      "text/plain": [
       "[[1, 2], [3, 4]]"
      ]
     },
     "execution_count": 56,
     "metadata": {},
     "output_type": "execute_result"
    }
   ],
   "source": [
    "#list comprehension\n",
    "res=[[int(input()) for j in range(2)] for i in range(2)]\n",
    "res"
   ]
  },
  {
   "cell_type": "code",
   "execution_count": 58,
   "id": "a6373f55",
   "metadata": {},
   "outputs": [
    {
     "name": "stdout",
     "output_type": "stream",
     "text": [
      "[1, 2, 3, 4, 5, 6, 7, 8, 9, 10]\n"
     ]
    }
   ],
   "source": [
    "l=[1,2,3,4,5,6,7,8,9,10]\n",
    "print(l[::])"
   ]
  },
  {
   "cell_type": "code",
   "execution_count": 2,
   "id": "1a49f663",
   "metadata": {},
   "outputs": [
    {
     "name": "stdout",
     "output_type": "stream",
     "text": [
      "10\n",
      "0\n",
      "1\n",
      "1\n",
      "2\n",
      "3\n",
      "5\n",
      "8\n",
      "13\n",
      "21\n",
      "34\n"
     ]
    }
   ],
   "source": [
    "n=int(input())\n",
    "fib1,fib2=0,1\n",
    "print(fib1)\n",
    "print(fib2)\n",
    "for i in range(n-2):\n",
    "    sum1=fib1+fib2\n",
    "    print(sum1)\n",
    "    fib1=fib2\n",
    "    fib2=sum1\n",
    "    \n",
    "    "
   ]
  },
  {
   "cell_type": "code",
   "execution_count": 26,
   "id": "e255d63a",
   "metadata": {},
   "outputs": [
    {
     "name": "stdout",
     "output_type": "stream",
     "text": [
      "Hello world\n",
      "['hello', 'world']\n",
      "hello@world\n",
      "['hello', 'world']\n",
      "Hello World\n",
      "hello world\n",
      "HELLO WORLD\n",
      "3\n",
      "HELLO WORLD\n"
     ]
    }
   ],
   "source": [
    "#String methods\n",
    "s=\"hello world\"\n",
    "print(s.capitalize())\n",
    "res=s.split(' ')\n",
    "print(res)\n",
    "print('@'.join(res))\n",
    "print(res)\n",
    "print(s.title())\n",
    "print(s.lower())\n",
    "print(s.upper())\n",
    "res=s.count('l')\n",
    "print(res)\n",
    "res2='HEllo World'\n",
    "res2=s.swapcase()\n",
    "print(res2)"
   ]
  },
  {
   "cell_type": "code",
   "execution_count": 38,
   "id": "1e281dc2",
   "metadata": {},
   "outputs": [
    {
     "name": "stdout",
     "output_type": "stream",
     "text": [
      "heLLO wORLD\n",
      "True\n",
      "True\n"
     ]
    }
   ],
   "source": [
    "res2='HEllo World'\n",
    "res2=res2.swapcase()\n",
    "print(res2)\n",
    "print('sefgjmf'.isalpha())\n",
    "print('s1'.isalnum())"
   ]
  },
  {
   "cell_type": "code",
   "execution_count": 51,
   "id": "78807f48",
   "metadata": {},
   "outputs": [
    {
     "name": "stdout",
     "output_type": "stream",
     "text": [
      "mr.x is 38 years old\n",
      "the square of 5 is 25\n",
      "the square of 3.14 is 9.86\n",
      "the square of       3.14 is 9.86\n",
      "the square of 10 is 100.00000\n"
     ]
    }
   ],
   "source": [
    "#format in string methods\n",
    "first='mr. x is'\n",
    "age=38\n",
    "last='years old'\n",
    "print(\"mr.x is {} years old\".format(age))\n",
    "num=5\n",
    "print(\"the square of {} is {}\".format(num,num*num))\n",
    "num=3.14\n",
    "print(\"the square of {} is {:.2f}\".format(num,num*num))\n",
    "num=3.14\n",
    "print(\"the square of {:10} is {:.2f}\".format(num,num*num))\n",
    "num=10\n",
    "print(f\"the square of {num} is {num*num:.5f}\")"
   ]
  },
  {
   "cell_type": "code",
   "execution_count": 55,
   "id": "63530a28",
   "metadata": {},
   "outputs": [
    {
     "name": "stdout",
     "output_type": "stream",
     "text": [
      "10\n",
      "0\n",
      "b cannot be 0\n"
     ]
    }
   ],
   "source": [
    "#Exception handling\n",
    "a=int(input())\n",
    "b=int(input())\n",
    "#print(a/b) #b=0 we get an error so we use the exception handling methods try,except\n",
    "try:\n",
    "    print(a/b)\n",
    "except:\n",
    "    print(\"b cannot be 0\")"
   ]
  },
  {
   "cell_type": "code",
   "execution_count": 64,
   "id": "0189885f",
   "metadata": {},
   "outputs": [
    {
     "name": "stdout",
     "output_type": "stream",
     "text": [
      "10\n",
      "0\n",
      "+\n",
      "add 10\n",
      "-\n",
      "sub 10\n",
      "*\n",
      "mul 0\n",
      "/\n",
      "b cannot be 0\n"
     ]
    }
   ],
   "source": [
    "a=int(input())\n",
    "b=int(input())\n",
    "while(True):\n",
    "    v=input()\n",
    "    if(v=='+'):\n",
    "        print(\"add\",a+b)\n",
    "    elif(v=='-'):\n",
    "        print(\"sub\",a-b)\n",
    "    elif(v=='*'):\n",
    "        print(\"mul\",a*b)\n",
    "    elif(v=='/'):\n",
    "        try:\n",
    "            print(\"div\",a/b)\n",
    "        except:\n",
    "            print(\"b cannot be 0\")\n",
    "    else:\n",
    "        print(\"invalid operator\")\n",
    "        break"
   ]
  },
  {
   "cell_type": "code",
   "execution_count": null,
   "id": "696eec39",
   "metadata": {},
   "outputs": [],
   "source": []
  }
 ],
 "metadata": {
  "kernelspec": {
   "display_name": "Python 3 (ipykernel)",
   "language": "python",
   "name": "python3"
  },
  "language_info": {
   "codemirror_mode": {
    "name": "ipython",
    "version": 3
   },
   "file_extension": ".py",
   "mimetype": "text/x-python",
   "name": "python",
   "nbconvert_exporter": "python",
   "pygments_lexer": "ipython3",
   "version": "3.9.7"
  }
 },
 "nbformat": 4,
 "nbformat_minor": 5
}
